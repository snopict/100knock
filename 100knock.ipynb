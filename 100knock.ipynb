{
 "cells": [
  {
   "cell_type": "markdown",
   "metadata": {},
   "source": [
    "<h3>Chapter1</h3>"
   ]
  },
  {
   "cell_type": "markdown",
   "metadata": {},
   "source": [
    "00: 文字列の逆順"
   ]
  },
  {
   "cell_type": "code",
   "execution_count": 1,
   "metadata": {
    "collapsed": true
   },
   "outputs": [],
   "source": [
    "word = 'stressed'"
   ]
  },
  {
   "cell_type": "code",
   "execution_count": 3,
   "metadata": {
    "scrolled": false
   },
   "outputs": [
    {
     "name": "stdout",
     "output_type": "stream",
     "text": [
      "desserts\n"
     ]
    }
   ],
   "source": [
    "print(word[::-1])"
   ]
  },
  {
   "cell_type": "markdown",
   "metadata": {},
   "source": [
    "01: 文字列の1,3,5,7番目を連結"
   ]
  },
  {
   "cell_type": "code",
   "execution_count": 7,
   "metadata": {},
   "outputs": [
    {
     "name": "stdout",
     "output_type": "stream",
     "text": [
      "パトカー\n"
     ]
    }
   ],
   "source": [
    "word2 = 'パタトクカシー'\n",
    "print(word2[::2])"
   ]
  },
  {
   "cell_type": "markdown",
   "metadata": {},
   "source": [
    "02: 交互に連結して文を得る"
   ]
  },
  {
   "cell_type": "code",
   "execution_count": 11,
   "metadata": {
    "scrolled": true
   },
   "outputs": [
    {
     "data": {
      "text/plain": [
       "'パタトクカシーー'"
      ]
     },
     "execution_count": 11,
     "metadata": {},
     "output_type": "execute_result"
    }
   ],
   "source": [
    "word3 = 'パトカー'\n",
    "word4 = 'タクシー'\n",
    "word5 = \"\".join(i+j for i,j in zip(word3, word4))\n",
    "word5"
   ]
  },
  {
   "cell_type": "markdown",
   "metadata": {},
   "source": [
    "03: 円周率"
   ]
  },
  {
   "cell_type": "code",
   "execution_count": 19,
   "metadata": {},
   "outputs": [
    {
     "data": {
      "text/plain": [
       "[3, 1, 4, 1, 6, 9, 2, 7, 5, 3, 5, 8, 9, 7, 10]"
      ]
     },
     "execution_count": 19,
     "metadata": {},
     "output_type": "execute_result"
    }
   ],
   "source": [
    "sentence = 'Now I need a drink, alcoholic of course, after the heavy lectures involving quantum mechanics.'\n",
    "words = sentence.split(' ')\n",
    "pi =[len(word) for word in words]\n",
    "pi"
   ]
  },
  {
   "cell_type": "markdown",
   "metadata": {},
   "source": [
    "04: 元素記号の辞書(/マップ)型を生成"
   ]
  },
  {
   "cell_type": "code",
   "execution_count": 60,
   "metadata": {},
   "outputs": [
    {
     "name": "stdout",
     "output_type": "stream",
     "text": [
      "{'H': 1, 'He': 2, 'Li': 3, 'Be': 4, 'B': 5, 'C': 6, 'N': 7, 'O': 8, 'F': 9, 'Ne': 10, 'Na': 11, 'Mi': 12, 'Al': 13, 'Si': 14, 'P': 15, 'S': 16, 'Cl': 17, 'Ar': 18, 'K': 19, 'Ca': 20}\n"
     ]
    }
   ],
   "source": [
    "sentence = \"Hi He Lied Because Boron Could Not Oxidize Fluorine. New Nations Might Also Sign Peace Security Clause. Arthur King Can.\"\n",
    "sentence = sentence.split(' ')\n",
    "list_1 = [1, 5, 6, 7, 8, 9, 15, 16, 19]\n",
    "dict_result = {}\n",
    "for i in range(1, len(sentence)+1):\n",
    "    if i in list_1:\n",
    "        dict_result.update({sentence[i-1][0]:i})\n",
    "    else:\n",
    "        dict_result.update({sentence[i-1][0:2]:i})\n",
    "print(dict_result)"
   ]
  },
  {
   "cell_type": "markdown",
   "metadata": {},
   "source": [
    "05: n-gramを作る関数"
   ]
  },
  {
   "cell_type": "code",
   "execution_count": 61,
   "metadata": {
    "scrolled": true
   },
   "outputs": [
    {
     "data": {
      "text/plain": [
       "{' NL',\n",
       " ' am',\n",
       " ' an',\n",
       " 'I a',\n",
       " 'LPe',\n",
       " 'NLP',\n",
       " 'Per',\n",
       " 'am ',\n",
       " 'an ',\n",
       " 'er',\n",
       " 'm a',\n",
       " 'n N',\n",
       " 'r'}"
      ]
     },
     "execution_count": 61,
     "metadata": {},
     "output_type": "execute_result"
    }
   ],
   "source": [
    "def ngram(text,n):\n",
    "    ngram = set()\n",
    "    for i in range(0,len(text)):\n",
    "        ngram.add(text[i:i+n])\n",
    "    return ngram\n",
    "\n",
    "ngram('I am an NLPer', 3)"
   ]
  },
  {
   "cell_type": "markdown",
   "metadata": {},
   "source": [
    "06: 集合の扱い"
   ]
  },
  {
   "cell_type": "code",
   "execution_count": 53,
   "metadata": {},
   "outputs": [
    {
     "name": "stdout",
     "output_type": "stream",
     "text": [
      "{'ap', 'h', 'se', 'e', 'di', 'ar', 'ra', 'ag', 'ad', 'gr', 'is', 'ph', 'pa'}\n",
      "{'pa', 'ap', 'ar', 'ra'}\n",
      "{'h', 'se', 'e', 'di', 'ag', 'ad', 'gr', 'is', 'ph'}\n"
     ]
    }
   ],
   "source": [
    "word6 = 'paraparaparadise'\n",
    "word7 = 'paragraph'\n",
    "\n",
    "word6_bigram = ngram(word6, 2)\n",
    "word7_bigram = ngram(word7, 2)\n",
    "\n",
    "print(word6_bigram | word7_bigram)\n",
    "print(word6_bigram & word7_bigram)\n",
    "print(word6_bigram ^ word7_bigram)"
   ]
  },
  {
   "cell_type": "markdown",
   "metadata": {},
   "source": [
    "07: テンプレート文"
   ]
  },
  {
   "cell_type": "code",
   "execution_count": 17,
   "metadata": {},
   "outputs": [
    {
     "name": "stdout",
     "output_type": "stream",
     "text": [
      "12時の気温は22.4\n"
     ]
    }
   ],
   "source": [
    "def f(x, y, z):\n",
    "    text = \"%s時の%sは%s\" % (x,y,z)\n",
    "    return text\n",
    "print(f(12, \"気温\", 22.4))"
   ]
  },
  {
   "cell_type": "markdown",
   "metadata": {},
   "source": [
    "08: 暗号文"
   ]
  },
  {
   "cell_type": "code",
   "execution_count": 3,
   "metadata": {
    "collapsed": true
   },
   "outputs": [],
   "source": [
    "word8 = 'hello'"
   ]
  },
  {
   "cell_type": "code",
   "execution_count": 126,
   "metadata": {
    "collapsed": true
   },
   "outputs": [],
   "source": [
    "#一旦リストにするパターン\n",
    "def cipher(text):\n",
    "    strings = []\n",
    "    for character in text:\n",
    "        chr_cifered = chr(219 - ord(character))\n",
    "        strings.append(chr_cifered)\n",
    "    text_cifered = ''.join(strings)\n",
    "    return text_cifered"
   ]
  },
  {
   "cell_type": "code",
   "execution_count": 127,
   "metadata": {
    "collapsed": true
   },
   "outputs": [],
   "source": [
    "#一文字ずつ変更していくパターン\n",
    "def cipher2(text):\n",
    "    for i in range(0, len(text)):\n",
    "        text = text[:i] + chr(219 - ord(text[i])) + text[i+1:]\n",
    "    return text"
   ]
  },
  {
   "cell_type": "code",
   "execution_count": 70,
   "metadata": {},
   "outputs": [
    {
     "name": "stdout",
     "output_type": "stream",
     "text": [
      "svool\n",
      "svool\n"
     ]
    }
   ],
   "source": [
    "print(cipher(word8))\n",
    "print(cipher2(word8))"
   ]
  },
  {
   "cell_type": "markdown",
   "metadata": {},
   "source": [
    "09: Typoglycemia"
   ]
  },
  {
   "cell_type": "code",
   "execution_count": 62,
   "metadata": {
    "collapsed": true
   },
   "outputs": [],
   "source": [
    "sentence = \"I couldn't believe that I could actually understand what I was reading : the phenomenal power of the human mind .\""
   ]
  },
  {
   "cell_type": "code",
   "execution_count": 97,
   "metadata": {
    "collapsed": true
   },
   "outputs": [],
   "source": [
    "import random\n",
    "\n",
    "def typo(sentence):\n",
    "    result = []\n",
    "    sentence = sentence.split(' ')\n",
    "    for word in sentence:\n",
    "        if len(word) > 4:\n",
    "            middle = list(word[1:-1])\n",
    "            random.shuffle(middle)\n",
    "            middle = ''.join(middle)\n",
    "            word = word[0] + middle + word[-1]\n",
    "            result.append(word)\n",
    "        else:\n",
    "            result.append(word)\n",
    "    return ' '.join(result)"
   ]
  },
  {
   "cell_type": "code",
   "execution_count": 132,
   "metadata": {},
   "outputs": [
    {
     "data": {
      "text/plain": [
       "\"I c'nduolt bveliee that I could atualcly unrensdtad what I was rindaeg : the pheennmoal peowr of the huamn mind .\""
      ]
     },
     "execution_count": 132,
     "metadata": {},
     "output_type": "execute_result"
    }
   ],
   "source": [
    "typo(sentence)"
   ]
  },
  {
   "cell_type": "markdown",
   "metadata": {},
   "source": [
    "<h3>Chapter2</h3>"
   ]
  },
  {
   "cell_type": "code",
   "execution_count": 119,
   "metadata": {},
   "outputs": [
    {
     "name": "stdout",
     "output_type": "stream",
     "text": [
      "24\n"
     ]
    }
   ],
   "source": [
    "#ファイル読み込み\n",
    "with open('hightemp.txt','r') as f:\n",
    "    lines = f.readlines()\n",
    "\n",
    "print(len(lines))"
   ]
  },
  {
   "cell_type": "markdown",
   "metadata": {},
   "source": [
    "11: タブをスペースに変換 (sed / tr / expandコマンド)"
   ]
  },
  {
   "cell_type": "code",
   "execution_count": 121,
   "metadata": {
    "collapsed": true
   },
   "outputs": [],
   "source": [
    "with open('hightemp.txt', 'r') as f:\n",
    "    text = f.read()\n",
    "    \n",
    "with open('hightemp_q11.txt', 'w') as f:\n",
    "    text.replace('\\t',' ')\n",
    "    f.write(text)"
   ]
  },
  {
   "cell_type": "code",
   "execution_count": null,
   "metadata": {
    "collapsed": true
   },
   "outputs": [],
   "source": [
    "%%bash\n"
   ]
  },
  {
   "cell_type": "markdown",
   "metadata": {},
   "source": [
    "12: 1列目をcol1.txt、2列目をcol2.txtに保存 (cutコマンド)"
   ]
  },
  {
   "cell_type": "code",
   "execution_count": 125,
   "metadata": {
    "collapsed": true
   },
   "outputs": [],
   "source": [
    "with open('hightemp.txt', 'r') as f:\n",
    "    lines = f.readlines()\n",
    "\n",
    "with open('col1.txt', 'w') as f:\n",
    "    wordlist = []\n",
    "    for line in lines:\n",
    "        words = line.split('\\t')\n",
    "        wordlist.append(words[0])\n",
    "    text = '\\n'.join(wordlist)\n",
    "    f.write(text)\n",
    "    \n",
    "with open('col2.txt', 'w') as f:\n",
    "    wordlist = []\n",
    "    for line in lines:\n",
    "        words = line.split('\\t')\n",
    "        wordlist.append(words[1])\n",
    "    text = '\\n'.join(wordlist)\n",
    "    f.write(text)"
   ]
  },
  {
   "cell_type": "code",
   "execution_count": 32,
   "metadata": {},
   "outputs": [],
   "source": [
    "%%bash\n",
    "#cut -f 1 hightemp.txt\n",
    "#cut -f 2 hightemp.txt"
   ]
  },
  {
   "cell_type": "markdown",
   "metadata": {},
   "source": [
    "13: col1.txtとcol2.txtをマージ (pasteコマンド)"
   ]
  },
  {
   "cell_type": "code",
   "execution_count": 38,
   "metadata": {},
   "outputs": [],
   "source": [
    "%%bash\n",
    "#paste col1.txt col2.txt"
   ]
  },
  {
   "cell_type": "markdown",
   "metadata": {},
   "source": [
    "14: 先頭のN行だけを表示 (headコマンド)"
   ]
  },
  {
   "cell_type": "code",
   "execution_count": 147,
   "metadata": {
    "collapsed": true
   },
   "outputs": [],
   "source": [
    "def headN(file, n):\n",
    "    with open(file, 'r') as f:\n",
    "        lines = f.readlines()\n",
    "    result = lines[:n]\n",
    "    return ''.join(result)"
   ]
  },
  {
   "cell_type": "code",
   "execution_count": 148,
   "metadata": {
    "scrolled": false
   },
   "outputs": [
    {
     "name": "stdout",
     "output_type": "stream",
     "text": [
      "高知県\t江川崎\t41\t2013-08-12\n",
      "埼玉県\t熊谷\t40.9\t2007-08-16\n",
      "岐阜県\t多治見\t40.9\t2007-08-16\n",
      "山形県\t山形\t40.8\t1933-07-25\n",
      "山梨県\t甲府\t40.7\t2013-08-10\n",
      "\n"
     ]
    }
   ],
   "source": [
    "print(headN('hightemp.txt', 5))"
   ]
  },
  {
   "cell_type": "code",
   "execution_count": 39,
   "metadata": {
    "scrolled": true
   },
   "outputs": [
    {
     "name": "stdout",
     "output_type": "stream",
     "text": [
      "高知県\t江川崎\t41\t2013-08-12\n",
      "埼玉県\t熊谷\t40.9\t2007-08-16\n",
      "岐阜県\t多治見\t40.9\t2007-08-16\n",
      "山形県\t山形\t40.8\t1933-07-25\n",
      "山梨県\t甲府\t40.7\t2013-08-10\n"
     ]
    }
   ],
   "source": [
    "%%bash\n",
    "head -n 5 hightemp.txt"
   ]
  },
  {
   "cell_type": "markdown",
   "metadata": {},
   "source": [
    "15: 末尾のN行を出力 (tailコマンド)"
   ]
  },
  {
   "cell_type": "code",
   "execution_count": 152,
   "metadata": {
    "collapsed": true
   },
   "outputs": [],
   "source": [
    "def tailN(file, n):\n",
    "    with open(file, 'r') as f:\n",
    "        lines = f.readlines()\n",
    "    length = len(lines)\n",
    "    result = lines[(length-n):]\n",
    "    return ''.join(result)"
   ]
  },
  {
   "cell_type": "code",
   "execution_count": 153,
   "metadata": {
    "scrolled": false
   },
   "outputs": [
    {
     "name": "stdout",
     "output_type": "stream",
     "text": [
      "埼玉県\t鳩山\t39.9\t1997-07-05\n",
      "大阪府\t豊中\t39.9\t1994-08-08\n",
      "山梨県\t大月\t39.9\t1990-07-19\n",
      "山形県\t鶴岡\t39.9\t1978-08-03\n",
      "愛知県\t名古屋\t39.9\t1942-08-02\n",
      "\n"
     ]
    }
   ],
   "source": [
    "print(tailN('hightemp.txt', 5))"
   ]
  },
  {
   "cell_type": "code",
   "execution_count": 40,
   "metadata": {
    "scrolled": true
   },
   "outputs": [
    {
     "name": "stdout",
     "output_type": "stream",
     "text": [
      "埼玉県\t鳩山\t39.9\t1997-07-05\n",
      "大阪府\t豊中\t39.9\t1994-08-08\n",
      "山梨県\t大月\t39.9\t1990-07-19\n",
      "山形県\t鶴岡\t39.9\t1978-08-03\n",
      "愛知県\t名古屋\t39.9\t1942-08-02\n"
     ]
    }
   ],
   "source": [
    "%%bash\n",
    "tail -n 5 hightemp.txt"
   ]
  },
  {
   "cell_type": "markdown",
   "metadata": {},
   "source": [
    "16: ファイルをN分割する (splitコマンド)"
   ]
  },
  {
   "cell_type": "code",
   "execution_count": 50,
   "metadata": {
    "scrolled": true
   },
   "outputs": [
    {
     "name": "stdout",
     "output_type": "stream",
     "text": [
      "['高知県\\t江川崎\\t41\\t2013-08-12\\n', '埼玉県\\t熊谷\\t40.9\\t2007-08-16\\n', '岐阜県\\t多治見\\t40.9\\t2007-08-16\\n']\n",
      "['山形県\\t山形\\t40.8\\t1933-07-25\\n', '山梨県\\t甲府\\t40.7\\t2013-08-10\\n', '和歌山県\\tかつらぎ\\t40.6\\t1994-08-08\\n']\n",
      "['静岡県\\t天竜\\t40.6\\t1994-08-04\\n', '山梨県\\t勝沼\\t40.5\\t2013-08-10\\n', '埼玉県\\t越谷\\t40.4\\t2007-08-16\\n']\n",
      "['群馬県\\t館林\\t40.3\\t2007-08-16\\n', '群馬県\\t上里見\\t40.3\\t1998-07-04\\n', '愛知県\\t愛西\\t40.3\\t1994-08-05\\n']\n",
      "['千葉県\\t牛久\\t40.2\\t2004-07-20\\n', '静岡県\\t佐久間\\t40.2\\t2001-07-24\\n', '愛媛県\\t宇和島\\t40.2\\t1927-07-22\\n']\n",
      "['山形県\\t酒田\\t40.1\\t1978-08-03\\n', '岐阜県\\t美濃\\t40\\t2007-08-16\\n', '群馬県\\t前橋\\t40\\t2001-07-24\\n']\n"
     ]
    }
   ],
   "source": [
    "with open('hightemp.txt', 'r') as f:\n",
    "    lines = f.readlines()\n",
    "\n",
    "n = 7\n",
    "shou = int(len(lines) / n)\n",
    "amari = len(lines) // n\n",
    "\n",
    "for i in range (1, 7):\n",
    "    print(lines[(i-1)*shou : i*shou])"
   ]
  },
  {
   "cell_type": "code",
   "execution_count": 45,
   "metadata": {},
   "outputs": [],
   "source": [
    "%%bash\n",
    "split -l 5 hightemp.txt hightemp_5.txt"
   ]
  },
  {
   "cell_type": "markdown",
   "metadata": {},
   "source": [
    "17: 一列目の文字列の種類を求める (sort, uniqコマンド)"
   ]
  },
  {
   "cell_type": "code",
   "execution_count": 1,
   "metadata": {},
   "outputs": [
    {
     "name": "stdout",
     "output_type": "stream",
     "text": [
      "{'愛媛県', '千葉県', '静岡県', '群馬県', '山梨県', '山形県', '和歌山県', '大阪府', '岐阜県', '高知県', '愛知県', '埼玉県'}\n"
     ]
    }
   ],
   "source": [
    "with open('hightemp.txt', 'r') as f:\n",
    "    lines = f.readlines()\n",
    "\n",
    "wordset = set()\n",
    "for line in lines:\n",
    "    words = line.split('\\t')\n",
    "    wordset.add(words[0])\n",
    "\n",
    "print(wordset)"
   ]
  },
  {
   "cell_type": "markdown",
   "metadata": {},
   "source": [
    "18: 各行を3コラム目の数値の降順にソート (sortコマンド)"
   ]
  },
  {
   "cell_type": "code",
   "execution_count": 16,
   "metadata": {
    "scrolled": true
   },
   "outputs": [
    {
     "name": "stdout",
     "output_type": "stream",
     "text": [
      "愛知県\t名古屋\t39.9\t1942-08-02\n",
      "\n",
      "群馬県\t前橋\t40\t2001-07-24\n",
      "\n",
      "山形県\t酒田\t40.1\t1978-08-03\n",
      "\n",
      "愛媛県\t宇和島\t40.2\t1927-07-22\n",
      "\n",
      "愛知県\t愛西\t40.3\t1994-08-05\n",
      "\n",
      "埼玉県\t越谷\t40.4\t2007-08-16\n",
      "\n",
      "山梨県\t勝沼\t40.5\t2013-08-10\n",
      "\n",
      "静岡県\t天竜\t40.6\t1994-08-04\n",
      "\n",
      "山梨県\t甲府\t40.7\t2013-08-10\n",
      "\n",
      "山形県\t山形\t40.8\t1933-07-25\n",
      "\n",
      "岐阜県\t多治見\t40.9\t2007-08-16\n",
      "\n",
      "高知県\t江川崎\t41\t2013-08-12\n",
      "\n"
     ]
    }
   ],
   "source": [
    "with open('hightemp.txt', 'r') as f:\n",
    "    lines = f.readlines()\n",
    "\n",
    "linedict = {}\n",
    "for line in lines:\n",
    "    words = line.split('\\t')\n",
    "    linedict.update({words[2]:line})\n",
    "\n",
    "linedict_sorted = sorted(linedict.items())\n",
    "linelist_sorted = [i[1] for i in linedict_sorted] #リスト内包表記\n",
    "print('\\n'.join(linelist_sorted))\n",
    "    "
   ]
  },
  {
   "cell_type": "markdown",
   "metadata": {},
   "source": [
    "19: 各行の1コラム目の文字列の出現頻度を求め、高い順に並べる (cut, uniq, sortコマンド)"
   ]
  },
  {
   "cell_type": "code",
   "execution_count": 24,
   "metadata": {
    "scrolled": true
   },
   "outputs": [
    {
     "name": "stdout",
     "output_type": "stream",
     "text": [
      "[('埼玉県', 3), ('山形県', 3), ('山梨県', 3), ('群馬県', 3), ('岐阜県', 2), ('静岡県', 2), ('愛知県', 2), ('千葉県', 2), ('高知県', 1), ('和歌山県', 1), ('愛媛県', 1), ('大阪府', 1)]\n"
     ]
    }
   ],
   "source": [
    "with open('hightemp.txt','r') as f:\n",
    "    lines = f.readlines()\n",
    "\n",
    "prefdict = {}\n",
    "for line in lines:\n",
    "    words = line.split('\\t')\n",
    "    pref = words[0]\n",
    "    if pref in prefdict.keys():\n",
    "        val = prefdict[pref]\n",
    "        prefdict.update({pref:val+1})\n",
    "    else:\n",
    "        prefdict.update({pref:1})\n",
    "        \n",
    "preflist = sorted(prefdict.items(), key=lambda x: -x[1])\n",
    "print(preflist)"
   ]
  },
  {
   "cell_type": "markdown",
   "metadata": {},
   "source": [
    "<h3>Chapter3</h3>"
   ]
  },
  {
   "cell_type": "markdown",
   "metadata": {},
   "source": [
    "<h3>Chapter4</h3>"
   ]
  },
  {
   "cell_type": "code",
   "execution_count": null,
   "metadata": {
    "collapsed": true
   },
   "outputs": [],
   "source": []
  }
 ],
 "metadata": {
  "kernelspec": {
   "display_name": "Python 3",
   "language": "python",
   "name": "python3"
  },
  "language_info": {
   "codemirror_mode": {
    "name": "ipython",
    "version": 3
   },
   "file_extension": ".py",
   "mimetype": "text/x-python",
   "name": "python",
   "nbconvert_exporter": "python",
   "pygments_lexer": "ipython3",
   "version": "3.6.1"
  }
 },
 "nbformat": 4,
 "nbformat_minor": 2
}
