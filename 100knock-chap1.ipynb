{
 "cells": [
  {
   "cell_type": "markdown",
   "metadata": {},
   "source": [
    "<h3>Chapter1</h3>"
   ]
  },
  {
   "cell_type": "markdown",
   "metadata": {},
   "source": [
    "00: 文字列の逆順"
   ]
  },
  {
   "cell_type": "code",
   "execution_count": 1,
   "metadata": {
    "collapsed": true
   },
   "outputs": [],
   "source": [
    "word = 'stressed'"
   ]
  },
  {
   "cell_type": "code",
   "execution_count": 3,
   "metadata": {
    "scrolled": false
   },
   "outputs": [
    {
     "name": "stdout",
     "output_type": "stream",
     "text": [
      "desserts\n"
     ]
    }
   ],
   "source": [
    "print(word[::-1])"
   ]
  },
  {
   "cell_type": "markdown",
   "metadata": {},
   "source": [
    "01: 文字列の1,3,5,7番目を連結"
   ]
  },
  {
   "cell_type": "code",
   "execution_count": 7,
   "metadata": {},
   "outputs": [
    {
     "name": "stdout",
     "output_type": "stream",
     "text": [
      "パトカー\n"
     ]
    }
   ],
   "source": [
    "word2 = 'パタトクカシー'\n",
    "print(word2[::2])"
   ]
  },
  {
   "cell_type": "markdown",
   "metadata": {},
   "source": [
    "02: 交互に連結して文を得る"
   ]
  },
  {
   "cell_type": "code",
   "execution_count": 11,
   "metadata": {
    "scrolled": true
   },
   "outputs": [
    {
     "data": {
      "text/plain": [
       "'パタトクカシーー'"
      ]
     },
     "execution_count": 11,
     "metadata": {},
     "output_type": "execute_result"
    }
   ],
   "source": [
    "word3 = 'パトカー'\n",
    "word4 = 'タクシー'\n",
    "word5 = \"\".join(i+j for i,j in zip(word3, word4))\n",
    "word5"
   ]
  },
  {
   "cell_type": "markdown",
   "metadata": {},
   "source": [
    "03: 円周率"
   ]
  },
  {
   "cell_type": "code",
   "execution_count": 19,
   "metadata": {},
   "outputs": [
    {
     "data": {
      "text/plain": [
       "[3, 1, 4, 1, 6, 9, 2, 7, 5, 3, 5, 8, 9, 7, 10]"
      ]
     },
     "execution_count": 19,
     "metadata": {},
     "output_type": "execute_result"
    }
   ],
   "source": [
    "sentence = 'Now I need a drink, alcoholic of course, after the heavy lectures involving quantum mechanics.'\n",
    "words = sentence.split(' ')\n",
    "pi =[len(word) for word in words]\n",
    "pi"
   ]
  },
  {
   "cell_type": "markdown",
   "metadata": {},
   "source": [
    "04: 元素記号の辞書(/マップ)型を生成"
   ]
  },
  {
   "cell_type": "code",
   "execution_count": 60,
   "metadata": {},
   "outputs": [
    {
     "name": "stdout",
     "output_type": "stream",
     "text": [
      "{'H': 1, 'He': 2, 'Li': 3, 'Be': 4, 'B': 5, 'C': 6, 'N': 7, 'O': 8, 'F': 9, 'Ne': 10, 'Na': 11, 'Mi': 12, 'Al': 13, 'Si': 14, 'P': 15, 'S': 16, 'Cl': 17, 'Ar': 18, 'K': 19, 'Ca': 20}\n"
     ]
    }
   ],
   "source": [
    "sentence = \"Hi He Lied Because Boron Could Not Oxidize Fluorine. New Nations Might Also Sign Peace Security Clause. Arthur King Can.\"\n",
    "sentence = sentence.split(' ')\n",
    "list_1 = [1, 5, 6, 7, 8, 9, 15, 16, 19]\n",
    "dict_result = {}\n",
    "for i in range(1, len(sentence)+1):\n",
    "    if i in list_1:\n",
    "        dict_result.update({sentence[i-1][0]:i})\n",
    "    else:\n",
    "        dict_result.update({sentence[i-1][0:2]:i})\n",
    "print(dict_result)"
   ]
  },
  {
   "cell_type": "markdown",
   "metadata": {},
   "source": [
    "05: n-gramを作る関数"
   ]
  },
  {
   "cell_type": "code",
   "execution_count": 61,
   "metadata": {
    "scrolled": true
   },
   "outputs": [
    {
     "data": {
      "text/plain": [
       "{' NL',\n",
       " ' am',\n",
       " ' an',\n",
       " 'I a',\n",
       " 'LPe',\n",
       " 'NLP',\n",
       " 'Per',\n",
       " 'am ',\n",
       " 'an ',\n",
       " 'er',\n",
       " 'm a',\n",
       " 'n N',\n",
       " 'r'}"
      ]
     },
     "execution_count": 61,
     "metadata": {},
     "output_type": "execute_result"
    }
   ],
   "source": [
    "def ngram(text,n):\n",
    "    ngram = set()\n",
    "    for i in range(0,len(text)):\n",
    "        ngram.add(text[i:i+n])\n",
    "    return ngram\n",
    "\n",
    "ngram('I am an NLPer', 3)"
   ]
  },
  {
   "cell_type": "markdown",
   "metadata": {},
   "source": [
    "06: 集合の扱い"
   ]
  },
  {
   "cell_type": "code",
   "execution_count": 53,
   "metadata": {},
   "outputs": [
    {
     "name": "stdout",
     "output_type": "stream",
     "text": [
      "{'ap', 'h', 'se', 'e', 'di', 'ar', 'ra', 'ag', 'ad', 'gr', 'is', 'ph', 'pa'}\n",
      "{'pa', 'ap', 'ar', 'ra'}\n",
      "{'h', 'se', 'e', 'di', 'ag', 'ad', 'gr', 'is', 'ph'}\n"
     ]
    }
   ],
   "source": [
    "word6 = 'paraparaparadise'\n",
    "word7 = 'paragraph'\n",
    "\n",
    "word6_bigram = ngram(word6, 2)\n",
    "word7_bigram = ngram(word7, 2)\n",
    "\n",
    "print(word6_bigram | word7_bigram)\n",
    "print(word6_bigram & word7_bigram)\n",
    "print(word6_bigram ^ word7_bigram)"
   ]
  },
  {
   "cell_type": "markdown",
   "metadata": {},
   "source": [
    "07: テンプレート文"
   ]
  },
  {
   "cell_type": "code",
   "execution_count": 17,
   "metadata": {},
   "outputs": [
    {
     "name": "stdout",
     "output_type": "stream",
     "text": [
      "12時の気温は22.4\n"
     ]
    }
   ],
   "source": [
    "def f(x, y, z):\n",
    "    text = \"%s時の%sは%s\" % (x,y,z)\n",
    "    return text\n",
    "print(f(12, \"気温\", 22.4))"
   ]
  },
  {
   "cell_type": "markdown",
   "metadata": {},
   "source": [
    "08: 暗号文"
   ]
  },
  {
   "cell_type": "code",
   "execution_count": 3,
   "metadata": {
    "collapsed": true
   },
   "outputs": [],
   "source": [
    "word8 = 'hello'"
   ]
  },
  {
   "cell_type": "code",
   "execution_count": 126,
   "metadata": {
    "collapsed": true
   },
   "outputs": [],
   "source": [
    "#一旦リストにするパターン\n",
    "def cipher(text):\n",
    "    strings = []\n",
    "    for character in text:\n",
    "        chr_cifered = chr(219 - ord(character))\n",
    "        strings.append(chr_cifered)\n",
    "    text_cifered = ''.join(strings)\n",
    "    return text_cifered"
   ]
  },
  {
   "cell_type": "code",
   "execution_count": 127,
   "metadata": {
    "collapsed": true
   },
   "outputs": [],
   "source": [
    "#一文字ずつ変更していくパターン\n",
    "def cipher2(text):\n",
    "    for i in range(0, len(text)):\n",
    "        text = text[:i] + chr(219 - ord(text[i])) + text[i+1:]\n",
    "    return text"
   ]
  },
  {
   "cell_type": "code",
   "execution_count": 70,
   "metadata": {},
   "outputs": [
    {
     "name": "stdout",
     "output_type": "stream",
     "text": [
      "svool\n",
      "svool\n"
     ]
    }
   ],
   "source": [
    "print(cipher(word8))\n",
    "print(cipher2(word8))"
   ]
  },
  {
   "cell_type": "markdown",
   "metadata": {},
   "source": [
    "09: Typoglycemia"
   ]
  },
  {
   "cell_type": "code",
   "execution_count": 62,
   "metadata": {
    "collapsed": true
   },
   "outputs": [],
   "source": [
    "sentence = \"I couldn't believe that I could actually understand what I was reading : the phenomenal power of the human mind .\""
   ]
  },
  {
   "cell_type": "code",
   "execution_count": 97,
   "metadata": {
    "collapsed": true
   },
   "outputs": [],
   "source": [
    "import random\n",
    "\n",
    "def typo(sentence):\n",
    "    result = []\n",
    "    sentence = sentence.split(' ')\n",
    "    for word in sentence:\n",
    "        if len(word) > 4:\n",
    "            middle = list(word[1:-1])\n",
    "            random.shuffle(middle)\n",
    "            middle = ''.join(middle)\n",
    "            word = word[0] + middle + word[-1]\n",
    "            result.append(word)\n",
    "        else:\n",
    "            result.append(word)\n",
    "    return ' '.join(result)"
   ]
  },
  {
   "cell_type": "code",
   "execution_count": 132,
   "metadata": {},
   "outputs": [
    {
     "data": {
      "text/plain": [
       "\"I c'nduolt bveliee that I could atualcly unrensdtad what I was rindaeg : the pheennmoal peowr of the huamn mind .\""
      ]
     },
     "execution_count": 132,
     "metadata": {},
     "output_type": "execute_result"
    }
   ],
   "source": [
    "typo(sentence)"
   ]
  }
 ],
 "metadata": {
  "kernelspec": {
   "display_name": "Python 3",
   "language": "python",
   "name": "python3"
  },
  "language_info": {
   "codemirror_mode": {
    "name": "ipython",
    "version": 3
   },
   "file_extension": ".py",
   "mimetype": "text/x-python",
   "name": "python",
   "nbconvert_exporter": "python",
   "pygments_lexer": "ipython3",
   "version": "3.6.1"
  }
 },
 "nbformat": 4,
 "nbformat_minor": 2
}
